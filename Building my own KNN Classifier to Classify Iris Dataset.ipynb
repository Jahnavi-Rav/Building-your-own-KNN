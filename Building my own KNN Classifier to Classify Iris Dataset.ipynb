{
 "cells": [
  {
   "cell_type": "code",
   "execution_count": 1,
   "metadata": {},
   "outputs": [],
   "source": [
    "from sklearn import datasets\n",
    "from sklearn.model_selection import train_test_split\n",
    "from sklearn.metrics import accuracy_score\n",
    "from scipy.spatial import distance"
   ]
  },
  {
   "cell_type": "code",
   "execution_count": 14,
   "metadata": {},
   "outputs": [],
   "source": [
    "def euc(a, b):\n",
    "    return distance.euclidean(a, b)\n",
    "class ScrappyKNN():\n",
    "    def fit(self, features_train, labels_train):\n",
    "        self.features_train = features_train\n",
    "        self.labels_train = labels_train\n",
    "    def predict(self, featurs_test):\n",
    "        predictions = []\n",
    "        for item in features_test:\n",
    "            label = self.closest(item)\n",
    "            predictions.append(label)\n",
    "        return predictions\n",
    "    def closest(self, item):\n",
    "        best_dist = euc(item, self.features_train[0])\n",
    "        best_index = 0\n",
    "        for i in range(1, len(self.features_train)):\n",
    "            dist = euc(item, self.features_train[i])\n",
    "            if dist < best_dist:\n",
    "                best_dist = dist\n",
    "                best_index = i\n",
    "            return self.labels_train[best_index]   "
   ]
  },
  {
   "cell_type": "code",
   "execution_count": 15,
   "metadata": {},
   "outputs": [],
   "source": [
    "iris_dataset = datasets.load_iris()"
   ]
  },
  {
   "cell_type": "code",
   "execution_count": 16,
   "metadata": {},
   "outputs": [],
   "source": [
    "features = iris_dataset.data\n",
    "labels = iris_dataset.target"
   ]
  },
  {
   "cell_type": "code",
   "execution_count": 17,
   "metadata": {},
   "outputs": [],
   "source": [
    "features_train, features_test, labels_train, labels_test = train_test_split(features, labels, test_size = .5)"
   ]
  },
  {
   "cell_type": "code",
   "execution_count": 19,
   "metadata": {},
   "outputs": [],
   "source": [
    "My_classifier = ScrappyKNN()\n",
    "My_classifier.fit(features_train, labels_train)\n",
    "prediction = My_classifier.predict(features_test)"
   ]
  },
  {
   "cell_type": "code",
   "execution_count": 28,
   "metadata": {},
   "outputs": [
    {
     "name": "stdout",
     "output_type": "stream",
     "text": [
      "0.5866666666666667\n"
     ]
    }
   ],
   "source": [
    "print(accuracy_score(labels_test, prediction))"
   ]
  },
  {
   "cell_type": "code",
   "execution_count": 27,
   "metadata": {},
   "outputs": [
    {
     "name": "stdout",
     "output_type": "stream",
     "text": [
      "Versicolor\n"
     ]
    }
   ],
   "source": [
    "iris1 = [[4.7, 2.5, 3.1, 1.2]]\n",
    "iris_prediction = My_classifier.predict(iris1)\n",
    "if iris_prediction[0] == 0:\n",
    "    print(\"Setosa\")\n",
    "if iris_prediction[0] == 1:\n",
    "    print(\"Versicolor\")\n",
    "if iris_prediction[0] == 2:\n",
    "    print(\"Virginica\")\n",
    "    "
   ]
  },
  {
   "cell_type": "code",
   "execution_count": null,
   "metadata": {},
   "outputs": [],
   "source": []
  }
 ],
 "metadata": {
  "kernelspec": {
   "display_name": "Python 3",
   "language": "python",
   "name": "python3"
  },
  "language_info": {
   "codemirror_mode": {
    "name": "ipython",
    "version": 3
   },
   "file_extension": ".py",
   "mimetype": "text/x-python",
   "name": "python",
   "nbconvert_exporter": "python",
   "pygments_lexer": "ipython3",
   "version": "3.7.6"
  }
 },
 "nbformat": 4,
 "nbformat_minor": 4
}
